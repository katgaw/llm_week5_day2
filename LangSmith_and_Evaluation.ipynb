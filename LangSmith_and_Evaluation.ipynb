{
  "cells": [
    {
      "cell_type": "markdown",
      "metadata": {
        "id": "Fa_QpI0RXQKx"
      },
      "source": [
        "# LangSmith and Evaluation Overview with AI Makerspace\n",
        "\n",
        "Today we'll be looking at an amazing tool:\n",
        "\n",
        "[LangSmith](https://docs.smith.langchain.com/)!\n",
        "\n",
        "This tool will help us monitor, test, debug, and evaluate our LangChain applications - and more!\n",
        "\n",
        "We'll also be looking at a few Advanced Retrieval techniques along the way - and evaluate it using LangSmith!\n",
        "\n",
        "✋BREAKOUT ROOM #1:\n",
        "- Task 1: Dependencies and OpenAI API Key\n",
        "- Task 2: Basic RAG Chain\n",
        "- Task 3: Setting Up LangSmith\n",
        "- Task 4: Examining the Trace in LangSmith!\n",
        "- Task 5: Create Testing Dataset\n",
        "\n",
        "✋BREAKOUT ROOM #2:\n",
        "- Task 1: Parent Document Retriever\n",
        "- Task 2: Ensemble Retriever"
      ]
    },
    {
      "cell_type": "markdown",
      "metadata": {
        "id": "tw5ok9p-XuUs"
      },
      "source": [
        "## Task 1: Dependencies and OpenAI API Key\n",
        "\n",
        "We'll be using OpenAI's suite of models today to help us generate and embed our documents for a simple RAG system built on top of LangChain's blogs!"
      ]
    },
    {
      "cell_type": "code",
      "execution_count": null,
      "metadata": {
        "colab": {
          "base_uri": "https://localhost:8080/"
        },
        "id": "jhSjB1O6-Y0J",
        "outputId": "6b7d3377-b63f-4856-91b4-8ef20d81fd22"
      },
      "outputs": [
        {
          "output_type": "stream",
          "name": "stdout",
          "text": [
            "\u001b[2K     \u001b[90m━━━━━━━━━━━━━━━━━━━━━━━━━━━━━━━━━━━━━━━━\u001b[0m \u001b[32m332.8/332.8 kB\u001b[0m \u001b[31m3.1 MB/s\u001b[0m eta \u001b[36m0:00:00\u001b[0m\n",
            "\u001b[2K     \u001b[90m━━━━━━━━━━━━━━━━━━━━━━━━━━━━━━━━━━━━━━━━\u001b[0m \u001b[32m45.9/45.9 kB\u001b[0m \u001b[31m2.4 MB/s\u001b[0m eta \u001b[36m0:00:00\u001b[0m\n",
            "\u001b[2K     \u001b[90m━━━━━━━━━━━━━━━━━━━━━━━━━━━━━━━━━━━━━━━━\u001b[0m \u001b[32m2.2/2.2 MB\u001b[0m \u001b[31m11.0 MB/s\u001b[0m eta \u001b[36m0:00:00\u001b[0m\n",
            "\u001b[2K     \u001b[90m━━━━━━━━━━━━━━━━━━━━━━━━━━━━━━━━━━━━━━━━\u001b[0m \u001b[32m254.1/254.1 kB\u001b[0m \u001b[31m8.4 MB/s\u001b[0m eta \u001b[36m0:00:00\u001b[0m\n",
            "\u001b[2K     \u001b[90m━━━━━━━━━━━━━━━━━━━━━━━━━━━━━━━━━━━━━━━━\u001b[0m \u001b[32m127.5/127.5 kB\u001b[0m \u001b[31m4.0 MB/s\u001b[0m eta \u001b[36m0:00:00\u001b[0m\n",
            "\u001b[2K     \u001b[90m━━━━━━━━━━━━━━━━━━━━━━━━━━━━━━━━━━━━━━━━\u001b[0m \u001b[32m328.1/328.1 kB\u001b[0m \u001b[31m9.1 MB/s\u001b[0m eta \u001b[36m0:00:00\u001b[0m\n",
            "\u001b[2K     \u001b[90m━━━━━━━━━━━━━━━━━━━━━━━━━━━━━━━━━━━━━━━━\u001b[0m \u001b[32m1.1/1.1 MB\u001b[0m \u001b[31m16.2 MB/s\u001b[0m eta \u001b[36m0:00:00\u001b[0m\n",
            "\u001b[2K     \u001b[90m━━━━━━━━━━━━━━━━━━━━━━━━━━━━━━━━━━━━━━━━\u001b[0m \u001b[32m173.8/173.8 kB\u001b[0m \u001b[31m14.1 MB/s\u001b[0m eta \u001b[36m0:00:00\u001b[0m\n",
            "\u001b[2K     \u001b[90m━━━━━━━━━━━━━━━━━━━━━━━━━━━━━━━━━━━━━━━━\u001b[0m \u001b[32m975.5/975.5 kB\u001b[0m \u001b[31m17.5 MB/s\u001b[0m eta \u001b[36m0:00:00\u001b[0m\n",
            "\u001b[2K     \u001b[90m━━━━━━━━━━━━━━━━━━━━━━━━━━━━━━━━━━━━━━━━\u001b[0m \u001b[32m2.3/2.3 MB\u001b[0m \u001b[31m13.6 MB/s\u001b[0m eta \u001b[36m0:00:00\u001b[0m\n",
            "\u001b[2K     \u001b[90m━━━━━━━━━━━━━━━━━━━━━━━━━━━━━━━━━━━━━━━━\u001b[0m \u001b[32m75.6/75.6 kB\u001b[0m \u001b[31m7.0 MB/s\u001b[0m eta \u001b[36m0:00:00\u001b[0m\n",
            "\u001b[2K     \u001b[90m━━━━━━━━━━━━━━━━━━━━━━━━━━━━━━━━━━━━━━━━\u001b[0m \u001b[32m145.0/145.0 kB\u001b[0m \u001b[31m1.8 MB/s\u001b[0m eta \u001b[36m0:00:00\u001b[0m\n",
            "\u001b[2K     \u001b[90m━━━━━━━━━━━━━━━━━━━━━━━━━━━━━━━━━━━━━━━━\u001b[0m \u001b[32m139.2/139.2 kB\u001b[0m \u001b[31m2.8 MB/s\u001b[0m eta \u001b[36m0:00:00\u001b[0m\n",
            "\u001b[2K     \u001b[90m━━━━━━━━━━━━━━━━━━━━━━━━━━━━━━━━━━━━━━━━\u001b[0m \u001b[32m3.1/3.1 MB\u001b[0m \u001b[31m26.8 MB/s\u001b[0m eta \u001b[36m0:00:00\u001b[0m\n",
            "\u001b[2K     \u001b[90m━━━━━━━━━━━━━━━━━━━━━━━━━━━━━━━━━━━━━━━━\u001b[0m \u001b[32m12.4/12.4 MB\u001b[0m \u001b[31m38.0 MB/s\u001b[0m eta \u001b[36m0:00:00\u001b[0m\n",
            "\u001b[2K     \u001b[90m━━━━━━━━━━━━━━━━━━━━━━━━━━━━━━━━━━━━━━━━\u001b[0m \u001b[32m82.7/82.7 kB\u001b[0m \u001b[31m9.0 MB/s\u001b[0m eta \u001b[36m0:00:00\u001b[0m\n",
            "\u001b[2K     \u001b[90m━━━━━━━━━━━━━━━━━━━━━━━━━━━━━━━━━━━━━━━━\u001b[0m \u001b[32m49.2/49.2 kB\u001b[0m \u001b[31m5.9 MB/s\u001b[0m eta \u001b[36m0:00:00\u001b[0m\n",
            "\u001b[2K     \u001b[90m━━━━━━━━━━━━━━━━━━━━━━━━━━━━━━━━━━━━━━━━\u001b[0m \u001b[32m309.3/309.3 kB\u001b[0m \u001b[31m29.8 MB/s\u001b[0m eta \u001b[36m0:00:00\u001b[0m\n",
            "\u001b[2K     \u001b[90m━━━━━━━━━━━━━━━━━━━━━━━━━━━━━━━━━━━━━━━━\u001b[0m \u001b[32m77.9/77.9 kB\u001b[0m \u001b[31m9.3 MB/s\u001b[0m eta \u001b[36m0:00:00\u001b[0m\n",
            "\u001b[2K     \u001b[90m━━━━━━━━━━━━━━━━━━━━━━━━━━━━━━━━━━━━━━━━\u001b[0m \u001b[32m58.3/58.3 kB\u001b[0m \u001b[31m7.0 MB/s\u001b[0m eta \u001b[36m0:00:00\u001b[0m\n",
            "\u001b[2K     \u001b[90m━━━━━━━━━━━━━━━━━━━━━━━━━━━━━━━━━━━━━━━━\u001b[0m \u001b[32m57.5/57.5 kB\u001b[0m \u001b[31m7.4 MB/s\u001b[0m eta \u001b[36m0:00:00\u001b[0m\n",
            "\u001b[?25h\u001b[31mERROR: pip's dependency resolver does not currently take into account all the packages that are installed. This behaviour is the source of the following dependency conflicts.\n",
            "cudf-cu12 24.4.1 requires protobuf<5,>=3.20, but you have protobuf 5.27.2 which is incompatible.\n",
            "google-ai-generativelanguage 0.6.4 requires protobuf!=3.20.0,!=3.20.1,!=4.21.0,!=4.21.1,!=4.21.2,!=4.21.3,!=4.21.4,!=4.21.5,<5.0.0dev,>=3.19.5, but you have protobuf 5.27.2 which is incompatible.\n",
            "google-api-core 2.11.1 requires protobuf!=3.20.0,!=3.20.1,!=4.21.0,!=4.21.1,!=4.21.2,!=4.21.3,!=4.21.4,!=4.21.5,<5.0.0.dev0,>=3.19.5, but you have protobuf 5.27.2 which is incompatible.\n",
            "google-cloud-aiplatform 1.57.0 requires protobuf!=3.20.0,!=3.20.1,!=4.21.0,!=4.21.1,!=4.21.2,!=4.21.3,!=4.21.4,!=4.21.5,<5.0.0dev,>=3.19.5, but you have protobuf 5.27.2 which is incompatible.\n",
            "google-cloud-bigquery-connection 1.12.1 requires protobuf!=3.20.0,!=3.20.1,!=4.21.0,!=4.21.1,!=4.21.2,!=4.21.3,!=4.21.4,!=4.21.5,<5.0.0dev,>=3.19.5, but you have protobuf 5.27.2 which is incompatible.\n",
            "google-cloud-bigquery-storage 2.25.0 requires protobuf!=3.20.0,!=3.20.1,!=4.21.0,!=4.21.1,!=4.21.2,!=4.21.3,!=4.21.4,!=4.21.5,<5.0.0dev,>=3.19.5, but you have protobuf 5.27.2 which is incompatible.\n",
            "google-cloud-datastore 2.15.2 requires protobuf!=3.20.0,!=3.20.1,!=4.21.0,!=4.21.1,!=4.21.2,!=4.21.3,!=4.21.4,!=4.21.5,<5.0.0dev,>=3.19.5, but you have protobuf 5.27.2 which is incompatible.\n",
            "google-cloud-firestore 2.11.1 requires protobuf!=3.20.0,!=3.20.1,!=4.21.0,!=4.21.1,!=4.21.2,!=4.21.3,!=4.21.4,!=4.21.5,<5.0.0dev,>=3.19.5, but you have protobuf 5.27.2 which is incompatible.\n",
            "google-cloud-functions 1.13.3 requires protobuf!=3.20.0,!=3.20.1,!=4.21.0,!=4.21.1,!=4.21.2,!=4.21.3,!=4.21.4,!=4.21.5,<5.0.0dev,>=3.19.5, but you have protobuf 5.27.2 which is incompatible.\n",
            "google-cloud-iam 2.15.0 requires protobuf!=3.20.0,!=3.20.1,!=4.21.0,!=4.21.1,!=4.21.2,!=4.21.3,!=4.21.4,!=4.21.5,<5.0.0dev,>=3.19.5, but you have protobuf 5.27.2 which is incompatible.\n",
            "google-cloud-language 2.13.3 requires protobuf!=3.20.0,!=3.20.1,!=4.21.0,!=4.21.1,!=4.21.2,!=4.21.3,!=4.21.4,!=4.21.5,<5.0.0dev,>=3.19.5, but you have protobuf 5.27.2 which is incompatible.\n",
            "google-cloud-resource-manager 1.12.3 requires protobuf!=3.20.0,!=3.20.1,!=4.21.0,!=4.21.1,!=4.21.2,!=4.21.3,!=4.21.4,!=4.21.5,<5.0.0dev,>=3.19.5, but you have protobuf 5.27.2 which is incompatible.\n",
            "google-cloud-translate 3.11.3 requires protobuf!=3.20.0,!=3.20.1,!=4.21.0,!=4.21.1,!=4.21.2,!=4.21.3,!=4.21.4,!=4.21.5,<5.0.0dev,>=3.19.5, but you have protobuf 5.27.2 which is incompatible.\n",
            "tensorflow 2.15.0 requires protobuf!=4.21.0,!=4.21.1,!=4.21.2,!=4.21.3,!=4.21.4,!=4.21.5,<5.0.0dev,>=3.20.3, but you have protobuf 5.27.2 which is incompatible.\n",
            "tensorflow-metadata 1.15.0 requires protobuf<4.21,>=3.20.3; python_version < \"3.11\", but you have protobuf 5.27.2 which is incompatible.\u001b[0m\u001b[31m\n",
            "\u001b[0m"
          ]
        }
      ],
      "source": [
        "!pip install langchain_core langchain_openai langchain_community langchain-qdrant qdrant-client langsmith openai tiktoken cohere -qU"
      ]
    },
    {
      "cell_type": "code",
      "execution_count": 2,
      "metadata": {
        "id": "ADl8-whIAUHD",
        "colab": {
          "base_uri": "https://localhost:8080/"
        },
        "outputId": "b1152101-e9eb-474e-aa22-2c5aab52afcd"
      },
      "outputs": [
        {
          "name": "stdout",
          "output_type": "stream",
          "text": [
            "Enter your OpenAI API Key:··········\n"
          ]
        }
      ],
      "source": [
        "import os\n",
        "import getpass\n",
        "\n",
        "os.environ[\"OPENAI_API_KEY\"] = getpass.getpass(\"Enter your OpenAI API Key:\")"
      ]
    },
    {
      "cell_type": "markdown",
      "metadata": {
        "id": "T_NpPwk1YAgl"
      },
      "source": [
        "## Task 2: Basic RAG Chain\n",
        "\n",
        "Now we'll set up our basic RAG chain, first up we need a model!"
      ]
    },
    {
      "cell_type": "markdown",
      "metadata": {
        "id": "CUWXhsNVYLTA"
      },
      "source": [
        "### OpenAI Model\n",
        "\n",
        "\n",
        "We'll use OpenAI's `gpt-3.5-turbo` model to ensure we can use a stronger model for decent evaluation later!\n",
        "\n",
        "Notice that we can tag our resources - this will help us be able to keep track of which resources were used where later on!"
      ]
    },
    {
      "cell_type": "code",
      "execution_count": 3,
      "metadata": {
        "id": "CSgK6jgw_tI3"
      },
      "outputs": [],
      "source": [
        "from langchain_openai.chat_models import ChatOpenAI\n",
        "\n",
        "base_llm = ChatOpenAI(model=\"gpt-3.5-turbo\", tags=[\"base_llm\"])"
      ]
    },
    {
      "cell_type": "markdown",
      "metadata": {
        "id": "iiagvgVDYTPn"
      },
      "source": [
        "#### Asyncio Bug Handling\n",
        "\n",
        "This is necessary for Colab."
      ]
    },
    {
      "cell_type": "code",
      "execution_count": 4,
      "metadata": {
        "id": "ntIqnv4cA5gR"
      },
      "outputs": [],
      "source": [
        "import nest_asyncio\n",
        "nest_asyncio.apply()"
      ]
    },
    {
      "cell_type": "markdown",
      "metadata": {
        "id": "PDO0XJqbYabb"
      },
      "source": [
        "### SiteMap Loader\n",
        "\n",
        "We'll use a SiteMapLoader to scrape the LangChain blogs."
      ]
    },
    {
      "cell_type": "code",
      "execution_count": 5,
      "metadata": {
        "id": "sAS3QBQSARiw",
        "colab": {
          "base_uri": "https://localhost:8080/"
        },
        "outputId": "943b00c2-3cdf-4680-a738-4f5b14b83287"
      },
      "outputs": [
        {
          "output_type": "stream",
          "name": "stderr",
          "text": [
            "WARNING:langchain_community.utils.user_agent:USER_AGENT environment variable not set, consider setting it to identify your requests.\n",
            "Fetching pages: 100%|##########| 222/222 [00:29<00:00,  7.44it/s]\n"
          ]
        }
      ],
      "source": [
        "from langchain.document_loaders import SitemapLoader\n",
        "\n",
        "documents = SitemapLoader(web_path=\"https://blog.langchain.dev/sitemap-posts.xml\").load()"
      ]
    },
    {
      "cell_type": "code",
      "execution_count": null,
      "metadata": {
        "id": "_s_x87H0BYmn"
      },
      "outputs": [],
      "source": [
        "documents[0].metadata[\"source\"]"
      ]
    },
    {
      "cell_type": "markdown",
      "metadata": {
        "id": "F79PdFcaYfBL"
      },
      "source": [
        "### RecursiveCharacterTextSplitter\n",
        "\n",
        "We're going to use a relatively naive text splitting strategy today!"
      ]
    },
    {
      "cell_type": "code",
      "execution_count": null,
      "metadata": {
        "id": "NmCdYTTTA4du"
      },
      "outputs": [],
      "source": [
        "from langchain.text_splitter import RecursiveCharacterTextSplitter\n",
        "\n",
        "split_documents = RecursiveCharacterTextSplitter.from_tiktoken_encoder(\n",
        "    chunk_size = 500,\n",
        "    chunk_overlap = 20\n",
        ").split_documents(documents)"
      ]
    },
    {
      "cell_type": "code",
      "execution_count": null,
      "metadata": {
        "id": "yLA5-LNBBVM-"
      },
      "outputs": [],
      "source": [
        "len(split_documents)"
      ]
    },
    {
      "cell_type": "markdown",
      "metadata": {
        "id": "EUsEc07iYnwj"
      },
      "source": [
        "### Embeddings\n",
        "\n",
        "We'll be leveraging OpenAI's [text-embedding-3-small](https://openai.com/index/new-embedding-models-and-api-updates/) today!"
      ]
    },
    {
      "cell_type": "code",
      "execution_count": 9,
      "metadata": {
        "id": "QVhMN0aaBrsM"
      },
      "outputs": [],
      "source": [
        "from langchain_openai.embeddings import OpenAIEmbeddings\n",
        "\n",
        "base_embeddings_model = OpenAIEmbeddings(model=\"text-embedding-3-small\")"
      ]
    },
    {
      "cell_type": "markdown",
      "metadata": {
        "id": "NLoO_2MaY0TS"
      },
      "source": [
        "### Qdrant VectorStore Retriever\n",
        "\n",
        "Now we can use a Qdrant VectorStore to embed and store our documents and then convert it to a retriever so it can be used in our chain!"
      ]
    },
    {
      "cell_type": "code",
      "execution_count": 10,
      "metadata": {
        "id": "nBTK9kSFBWM1"
      },
      "outputs": [],
      "source": [
        "from langchain_qdrant import Qdrant\n",
        "\n",
        "vectorstore = Qdrant.from_documents(\n",
        "    split_documents,\n",
        "    base_embeddings_model,\n",
        "    location=\":memory:\",\n",
        "    collection_name=\"langchainblogs\")"
      ]
    },
    {
      "cell_type": "code",
      "execution_count": null,
      "metadata": {
        "id": "ZpwDxlniCJRu"
      },
      "outputs": [],
      "source": [
        "base_retriever = vectorstore.as_retriever()"
      ]
    },
    {
      "cell_type": "markdown",
      "metadata": {
        "id": "U2GPhHPAY5yG"
      },
      "source": [
        "### Prompt Template\n",
        "\n",
        "All we have left is a prompt template, which we'll create here!"
      ]
    },
    {
      "cell_type": "code",
      "execution_count": null,
      "metadata": {
        "id": "YAU74penCNmR"
      },
      "outputs": [],
      "source": [
        "from langchain.prompts import ChatPromptTemplate\n",
        "\n",
        "base_rag_prompt_template = \"\"\"\\\n",
        "Using the provided context, please answer the user's question. If you don't know the answer based on the context, say you don't know.\n",
        "\n",
        "Context:\n",
        "{context}\n",
        "\n",
        "Question:\n",
        "{question}\n",
        "\"\"\"\n",
        "\n",
        "base_rag_prompt = ChatPromptTemplate.from_template(base_rag_prompt_template)"
      ]
    },
    {
      "cell_type": "markdown",
      "metadata": {
        "id": "xmT5VyLmZAAK"
      },
      "source": [
        "### LCEL Chain\n",
        "\n",
        "Now that we have:\n",
        "\n",
        "- Embeddings Model\n",
        "- Generation Model\n",
        "- Retriever\n",
        "- Prompt\n",
        "\n",
        "We're ready to build our LCEL chain!\n",
        "\n",
        "Keep in mind that we're returning our source documents with our queries - while this isn't necessary, it's a great thing to get into the habit of doing."
      ]
    },
    {
      "cell_type": "code",
      "execution_count": null,
      "metadata": {
        "id": "pqVAsUc_Cp-7"
      },
      "outputs": [],
      "source": [
        "from operator import itemgetter\n",
        "from langchain_core.runnables import RunnablePassthrough, RunnableParallel\n",
        "from langchain.schema import StrOutputParser\n",
        "\n",
        "base_rag_chain = (\n",
        "    # INVOKE CHAIN WITH: {\"question\" : \"<<SOME USER QUESTION>>\"}\n",
        "    # \"question\" : populated by getting the value of the \"question\" key\n",
        "    # \"context\"  : populated by getting the value of the \"question\" key and chaining it into the base_retriever\n",
        "    {\"context\": itemgetter(\"question\") | base_retriever, \"question\": itemgetter(\"question\")}\n",
        "    # \"context\"  : is assigned to a RunnablePassthrough object (will not be called or considered in the next step)\n",
        "    #              by getting the value of the \"context\" key from the previous step\n",
        "    | RunnablePassthrough.assign(context=itemgetter(\"context\"))\n",
        "    # \"response\" : the \"context\" and \"question\" values are used to format our prompt object and then piped\n",
        "    #              into the LLM and stored in a key called \"response\"\n",
        "    # \"context\"  : populated by getting the value of the \"context\" key from the previous step\n",
        "    | {\"response\": base_rag_prompt | base_llm | StrOutputParser(), \"context\": itemgetter(\"context\")}\n",
        ")"
      ]
    },
    {
      "cell_type": "markdown",
      "metadata": {
        "id": "8fNjMoS-ZVo5"
      },
      "source": [
        "Let's test it out!"
      ]
    },
    {
      "cell_type": "code",
      "execution_count": null,
      "metadata": {
        "id": "6Dq9rCScDfBE"
      },
      "outputs": [],
      "source": [
        "base_rag_chain.invoke({\"question\" : \"What is a good way to evaluate agents?\"})[\"response\"]"
      ]
    },
    {
      "cell_type": "markdown",
      "metadata": {
        "id": "fJtSdDsXZXam"
      },
      "source": [
        "## Task 3: Setting Up LangSmith\n",
        "\n",
        "Now that we have a chain - we're ready to get started with LangSmith!\n",
        "\n",
        "We're going to go ahead and use the following `env` variables to get our Colab notebook set up to start reporting.\n",
        "\n",
        "If all you needed was simple monitoring - this is all you would need to do!"
      ]
    },
    {
      "cell_type": "code",
      "execution_count": null,
      "metadata": {
        "id": "iqPdBXSBD4a-"
      },
      "outputs": [],
      "source": [
        "from uuid import uuid4\n",
        "\n",
        "unique_id = uuid4().hex[0:8]\n",
        "\n",
        "os.environ[\"LANGCHAIN_TRACING_V2\"] = \"true\"\n",
        "os.environ[\"LANGCHAIN_PROJECT\"] = f\"LangSmith - {unique_id}\""
      ]
    },
    {
      "cell_type": "markdown",
      "metadata": {
        "id": "Ms4msyKLaIr6"
      },
      "source": [
        "### LangSmith API\n",
        "\n",
        "In order to use LangSmith - you will need a beta key, you can join the queue through the `Beta Sign Up` button on LangSmith's homepage!\n",
        "\n",
        "Join [here](https://www.langchain.com/langsmith)"
      ]
    },
    {
      "cell_type": "code",
      "execution_count": 16,
      "metadata": {
        "id": "MVq1EYngEMhV",
        "colab": {
          "base_uri": "https://localhost:8080/"
        },
        "outputId": "4321e2aa-ef39-45fe-aabe-210a1de5799d"
      },
      "outputs": [
        {
          "name": "stdout",
          "output_type": "stream",
          "text": [
            "Enter your LangSmith API key: ··········\n"
          ]
        }
      ],
      "source": [
        "os.environ[\"LANGCHAIN_API_KEY\"] = getpass.getpass('Enter your LangSmith API key: ')"
      ]
    },
    {
      "cell_type": "markdown",
      "metadata": {
        "id": "6qy0MMBLacXv"
      },
      "source": [
        "Let's test our our first generation!"
      ]
    },
    {
      "cell_type": "code",
      "execution_count": null,
      "metadata": {
        "id": "3eoqBtBQERXP"
      },
      "outputs": [],
      "source": [
        "base_rag_chain.invoke({\"question\" : \"What is LangSmith?\"}, {\"tags\" : [\"Demo Run\"]})['response']"
      ]
    },
    {
      "cell_type": "markdown",
      "metadata": {
        "id": "oZxABFzPr2ny"
      },
      "source": [
        "## Task 4: Examining the Trace in LangSmith!\n",
        "\n",
        "Head on over to your LangSmith web UI to check out how the trace looks in LangSmith!"
      ]
    },
    {
      "cell_type": "markdown",
      "metadata": {
        "id": "c52o58AfsLK6"
      },
      "source": [
        "#### 🏗️ Activity #1:\n",
        "\n",
        "Include a screenshot of your trace and explain what it means.\n",
        "See below the screenshot.\n",
        "We can see that it  took almost 2s to  obtain the answer. The run succeeded. It cost 1865 tokens."
      ]
    },
    {
      "cell_type": "code",
      "source": [
        "import matplotlib.pyplot as plt\n",
        "import matplotlib.image as mpimg\n",
        "image_path = \"Screenshot LangSmith.png\"\n",
        "image = mpimg.imread(image_path)\n",
        "plt.imshow(image)\n",
        "plt.show()"
      ],
      "metadata": {
        "id": "RM5-uhpyhHLz",
        "outputId": "11a30a17-28dc-4039-b776-b90f72fe514e",
        "colab": {
          "base_uri": "https://localhost:8080/",
          "height": 388
        }
      },
      "execution_count": 45,
      "outputs": [
        {
          "output_type": "display_data",
          "data": {
            "text/plain": [
              "<Figure size 640x480 with 1 Axes>"
            ],
            "image/png": "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\n"
          },
          "metadata": {}
        }
      ]
    },
    {
      "cell_type": "markdown",
      "metadata": {
        "id": "fLxh0-thanXt"
      },
      "source": [
        "## Task 5: Create Testing Dataset\n",
        "\n",
        "Now we can create a dataset using some user defined questions, and providing the retrieved context as a \"ground truth\" context.\n",
        "\n",
        "> NOTE: There are many different ways you can approach this specific task - generating ground truth answers with AI, using human experts to generate golden datasets, and more!"
      ]
    },
    {
      "cell_type": "markdown",
      "metadata": {
        "id": "eCKCAhASkXu0"
      },
      "source": [
        "### Synthetic Data Generation (SDG)\n",
        "\n",
        "In order to full test our RAG chain, and the various modifications we'll be using in the following notebook, we'll need to create a small synthetic dataset that is relevant to our task!\n",
        "\n",
        "Let's start by generating a series of questions - which begins with a simple model definition!\n",
        "\n",
        "> NOTE: We're going to be using a purposefully simplified datagen pipeline as an example today - but you could leverage the RAGAS SDG pipeline just as easily."
      ]
    },
    {
      "cell_type": "code",
      "execution_count": null,
      "metadata": {
        "id": "-dgAkRzDlEgH"
      },
      "outputs": [],
      "source": [
        "question_model = ChatOpenAI(model=\"gpt-4o\")"
      ]
    },
    {
      "cell_type": "markdown",
      "metadata": {
        "id": "tv-HC4C8lWIS"
      },
      "source": [
        "Next up, we'll create some novel chunks from our source data!"
      ]
    },
    {
      "cell_type": "code",
      "execution_count": 46,
      "metadata": {
        "id": "2Sz7rw0-lhf8"
      },
      "outputs": [],
      "source": [
        "sdg_documents = RecursiveCharacterTextSplitter.from_tiktoken_encoder(\n",
        "    chunk_size = 1000,\n",
        "    chunk_overlap = 20\n",
        ").split_documents(documents)"
      ]
    },
    {
      "cell_type": "markdown",
      "metadata": {
        "id": "pep-eqUbllrv"
      },
      "source": [
        "Now, let's ask some questions that could be answered from the provided chunks!"
      ]
    },
    {
      "cell_type": "code",
      "execution_count": 47,
      "metadata": {
        "id": "e75gwn4Tlt3w"
      },
      "outputs": [],
      "source": [
        "question_prompt_template = \"\"\"\\\n",
        "You are a University Professor creating questions for an exam. You must create a question for a given piece of context.\n",
        "\n",
        "The question must be answerable only using the provided context.\n",
        "\n",
        "Avoid creating questions that are ambiguous or vague. They should be specifically related to the context.\n",
        "\n",
        "Your output must only be the question.\n",
        "\n",
        "Context:\n",
        "{context}\n",
        "\"\"\"\n",
        "\n",
        "question_prompt = ChatPromptTemplate.from_template(question_prompt_template)"
      ]
    },
    {
      "cell_type": "code",
      "execution_count": 48,
      "metadata": {
        "id": "Pcb_R-G_odCl"
      },
      "outputs": [],
      "source": [
        "question_chain = question_prompt | question_model"
      ]
    },
    {
      "cell_type": "markdown",
      "metadata": {
        "id": "Y5YbGi7umtOB"
      },
      "source": [
        "Now we can loop through a subset of our context chunks and create question/context pairs!"
      ]
    },
    {
      "cell_type": "code",
      "execution_count": 49,
      "metadata": {
        "id": "Ot0HzAGBms90",
        "colab": {
          "base_uri": "https://localhost:8080/"
        },
        "outputId": "7e7790ad-1583-4111-befe-e29f29f453b7"
      },
      "outputs": [
        {
          "output_type": "stream",
          "name": "stderr",
          "text": [
            "100%|██████████| 23/23 [00:22<00:00,  1.04it/s]\n"
          ]
        }
      ],
      "source": [
        "from tqdm import tqdm\n",
        "import json\n",
        "\n",
        "question_context_pairs = []\n",
        "\n",
        "for idx in tqdm(range(0, len(sdg_documents), 40)):\n",
        "  question = question_chain.invoke({\"context\" : sdg_documents[idx].page_content})\n",
        "  question_context_pairs.append({\"question\" : question.content, \"context\" : sdg_documents[idx].page_content, \"idx\" : idx})\n"
      ]
    },
    {
      "cell_type": "code",
      "execution_count": 50,
      "metadata": {
        "id": "fzhg3AJlmfW-",
        "colab": {
          "base_uri": "https://localhost:8080/"
        },
        "outputId": "c0297d0e-0e1a-451a-827b-a2649f721bcc"
      },
      "outputs": [
        {
          "output_type": "execute_result",
          "data": {
            "text/plain": [
              "{'question': 'How did New Computer achieve 50% higher recall in their memory retrieval system using LangSmith?',\n",
              " 'context': 'Improving Memory Retrieval: How New Computer achieved 50% higher recall with LangSmith\\n\\n\\n\\n\\n\\n\\n\\n\\n\\n\\n\\n\\n\\n\\n\\n\\n\\n\\n\\n\\n\\n\\n\\n\\n\\n\\n\\n\\n\\n\\n\\n\\n\\n\\n\\n\\n\\n\\n\\n\\n\\n\\n\\n\\n\\n\\n\\n\\n\\n\\n\\n\\n\\nSkip to content\\n\\n\\n\\n\\n\\n\\n\\n\\n\\n\\n\\n\\n\\n\\n\\n\\nAll Posts\\n\\n\\n\\n\\nRelease Notes\\n\\n\\n\\n\\nCase Studies\\n\\n\\n\\n\\nIn the Loop\\n\\n\\n\\n\\nLangChain\\n\\n\\n\\n\\nDocs\\n\\n\\n\\n\\n\\nSign in\\nSubscribe\\n\\n\\n\\n\\n\\n\\n\\n\\n\\n\\n\\n\\n\\n\\n\\n\\n\\n\\n\\nImproving Memory Retrieval: How New Computer achieved 50% higher recall with LangSmith\\nNew Computer used LangSmith to improve their memory retrieval system, achieving 50% higher recall by tracking regressions in comparison view and adjusting conversation prompts accordingly.\\n\\nCase Studies\\n4 min read\\nJul 2, 2024',\n",
              " 'idx': 0}"
            ]
          },
          "metadata": {},
          "execution_count": 50
        }
      ],
      "source": [
        "question_context_pairs[0]"
      ]
    },
    {
      "cell_type": "markdown",
      "metadata": {
        "id": "34zGDKtD9I0A"
      },
      "source": [
        "We'll repeat this process for answers!"
      ]
    },
    {
      "cell_type": "code",
      "execution_count": 51,
      "metadata": {
        "id": "Ws624hGapJ92"
      },
      "outputs": [],
      "source": [
        "answer_prompt_template = \"\"\"\\\n",
        "You are a University Professor creating an exam. You must create a answer for a given piece of context and question.\n",
        "\n",
        "The answer must only rely on the provided context.\n",
        "\n",
        "Your output must only be the answer.\n",
        "\n",
        "Context:\n",
        "{context}\n",
        "\"\"\"\n",
        "\n",
        "answer_prompt = ChatPromptTemplate.from_template(answer_prompt_template)"
      ]
    },
    {
      "cell_type": "code",
      "execution_count": 52,
      "metadata": {
        "id": "AEnETuSEqf2R"
      },
      "outputs": [],
      "source": [
        "answer_chain = answer_prompt | question_model"
      ]
    },
    {
      "cell_type": "code",
      "execution_count": 53,
      "metadata": {
        "id": "89faPBcPqnfT",
        "colab": {
          "base_uri": "https://localhost:8080/"
        },
        "outputId": "e384b929-46d0-4b11-e055-f806ebc8fc82"
      },
      "outputs": [
        {
          "output_type": "stream",
          "name": "stderr",
          "text": [
            "100%|██████████| 23/23 [00:23<00:00,  1.01s/it]\n"
          ]
        }
      ],
      "source": [
        "for question_context_pair in tqdm(question_context_pairs):\n",
        "  question_context_pair[\"answer\"] = answer_chain.invoke({\"question\" : question_context_pair[\"question\"], \"context\" : question_context_pair[\"context\"]}).content"
      ]
    },
    {
      "cell_type": "code",
      "execution_count": 54,
      "metadata": {
        "id": "usB9PkJWq_0D",
        "colab": {
          "base_uri": "https://localhost:8080/"
        },
        "outputId": "1cd6f33a-d8df-47f1-dfa1-82d33c344fe9"
      },
      "outputs": [
        {
          "output_type": "execute_result",
          "data": {
            "text/plain": [
              "{'question': 'How did New Computer achieve 50% higher recall in their memory retrieval system using LangSmith?',\n",
              " 'context': 'Improving Memory Retrieval: How New Computer achieved 50% higher recall with LangSmith\\n\\n\\n\\n\\n\\n\\n\\n\\n\\n\\n\\n\\n\\n\\n\\n\\n\\n\\n\\n\\n\\n\\n\\n\\n\\n\\n\\n\\n\\n\\n\\n\\n\\n\\n\\n\\n\\n\\n\\n\\n\\n\\n\\n\\n\\n\\n\\n\\n\\n\\n\\n\\n\\nSkip to content\\n\\n\\n\\n\\n\\n\\n\\n\\n\\n\\n\\n\\n\\n\\n\\n\\nAll Posts\\n\\n\\n\\n\\nRelease Notes\\n\\n\\n\\n\\nCase Studies\\n\\n\\n\\n\\nIn the Loop\\n\\n\\n\\n\\nLangChain\\n\\n\\n\\n\\nDocs\\n\\n\\n\\n\\n\\nSign in\\nSubscribe\\n\\n\\n\\n\\n\\n\\n\\n\\n\\n\\n\\n\\n\\n\\n\\n\\n\\n\\n\\nImproving Memory Retrieval: How New Computer achieved 50% higher recall with LangSmith\\nNew Computer used LangSmith to improve their memory retrieval system, achieving 50% higher recall by tracking regressions in comparison view and adjusting conversation prompts accordingly.\\n\\nCase Studies\\n4 min read\\nJul 2, 2024',\n",
              " 'idx': 0,\n",
              " 'answer': 'New Computer achieved 50% higher recall by using LangSmith to track regressions in comparison view and adjust conversation prompts accordingly.'}"
            ]
          },
          "metadata": {},
          "execution_count": 54
        }
      ],
      "source": [
        "question_context_pairs[0]"
      ]
    },
    {
      "cell_type": "markdown",
      "metadata": {
        "id": "nyBtPs7p9Mbz"
      },
      "source": [
        "Now we can set up our LangSmith client - and we'll add the above created dataset to our LangSmith instance!\n",
        "\n",
        "> NOTE: Read more about this process [here](https://docs.smith.langchain.com/old/evaluation/faq/manage-datasets#create-from-list-of-values)"
      ]
    },
    {
      "cell_type": "code",
      "execution_count": 57,
      "metadata": {
        "id": "T9exE2e6F3gF"
      },
      "outputs": [],
      "source": [
        "from langsmith import Client\n",
        "\n",
        "client = Client()\n",
        "\n",
        "dataset_name = \"langsmith-demo-dataset-v2\"\n",
        "\n",
        "dataset = client.create_dataset(\n",
        "    dataset_name=dataset_name, description=\"LangChain Blog Test Questions\"\n",
        ")\n",
        "\n",
        "for triplet in question_context_pairs:\n",
        "  client.create_example(\n",
        "      inputs={\"question\" : triplet[\"question\"]},\n",
        "      outputs={\"answer\" : triplet[\"answer\"]},\n",
        "      dataset_id=dataset.id\n",
        "  )"
      ]
    },
    {
      "cell_type": "markdown",
      "metadata": {
        "id": "QXgi14vSbFIc"
      },
      "source": [
        "### Evaluation\n",
        "\n",
        "Now we can run the evaluation!\n",
        "\n",
        "We'll need to start by preparing some custom data preparation functions to ensure our chain works with the expected inputs/outputs from the `evaluate` process in LangSmith.\n",
        "\n",
        "> NOTE: More reading on this available [here](https://docs.smith.langchain.com/how_to_guides/evaluation/evaluate_llm_application#evaluate-a-langchain-runnable)"
      ]
    },
    {
      "cell_type": "code",
      "execution_count": 58,
      "metadata": {
        "id": "fbjnv3bMwQKg"
      },
      "outputs": [],
      "source": [
        "def prepare_data_ref(run, example):\n",
        "  return {\n",
        "      \"prediction\" : run.outputs[\"response\"],\n",
        "      \"reference\" : example.outputs[\"answer\"],\n",
        "      \"input\" : example.inputs[\"question\"]\n",
        "  }\n",
        "\n",
        "def prepare_data_noref(run, example):\n",
        "  return {\n",
        "      \"prediction\" : run.outputs[\"response\"],\n",
        "      \"input\" : example.inputs[\"question\"]\n",
        "  }"
      ]
    },
    {
      "cell_type": "markdown",
      "metadata": {
        "id": "OuwnMdtl9nwz"
      },
      "source": [
        "We'll be using a few custom evaluators to evaluate our pipeline, as well as a few \"built in\" methods!\n",
        "\n",
        "Check out the built-ins [here](https://docs.smith.langchain.com/reference/sdk_reference/langchain_evaluators)!"
      ]
    },
    {
      "cell_type": "code",
      "execution_count": 59,
      "metadata": {
        "id": "CENtd4K_IQa3",
        "colab": {
          "base_uri": "https://localhost:8080/",
          "height": 1000,
          "referenced_widgets": [
            "4c6ce1a923d04b18998af77e142ec905",
            "535ef659ffc24917b1f37a98b5d6cd94",
            "cb39437555a144d482ac37e2b8ecd1b4",
            "550f53eb2d4e48ecbff05f486d089d4e",
            "104da26557ba471fa9e44c19d3a935f0",
            "4e599146e89a428dac03138725ba8ee3",
            "fb78ac4fd4f842619af792e45e1659fe",
            "8a861781f4eb4a3598c72ac2bdf9b290",
            "7f73e522bfee444ab1e69dc0a67a5dfe",
            "4cc80bde9a9c4223a1dabfeee52b27e6",
            "f92481031c9444ad9268a381774239ca"
          ]
        },
        "outputId": "2c22bb87-8b85-446d-c240-dc2ce402fb00"
      },
      "outputs": [
        {
          "output_type": "stream",
          "name": "stdout",
          "text": [
            "View the evaluation results for experiment: 'Base RAG Evaluation-31f3917a' at:\n",
            "https://smith.langchain.com/o/f3125fd9-8ca4-505b-ae11-18dfc3fb5909/datasets/0b4de14a-7783-41d3-9d7b-45ae47f7579e/compare?selectedSessions=224dbcab-00fe-4567-aa13-d9109899fedc\n",
            "\n",
            "\n"
          ]
        },
        {
          "output_type": "display_data",
          "data": {
            "text/plain": [
              "0it [00:00, ?it/s]"
            ],
            "application/vnd.jupyter.widget-view+json": {
              "version_major": 2,
              "version_minor": 0,
              "model_id": "4c6ce1a923d04b18998af77e142ec905"
            }
          },
          "metadata": {}
        },
        {
          "output_type": "stream",
          "name": "stderr",
          "text": [
            "ERROR:langsmith.evaluation._runner:Error running evaluator <DynamicRunEvaluator evaluate> on run 1a796047-15ab-4f4d-be1c-11c873afa7fc: ValueError(\"Invalid output: The assistant's response does not provide a reference answer to compare with, making it impossible to evaluate the accuracy of the provided information. The assistant's response seems to be relevant to the question asked, but without a reference answer, it's impossible to confirm. Therefore, I cannot provide a rating.. Output must contain a double bracketed string                 with the verdict between 1 and 10.\")\n",
            "Traceback (most recent call last):\n",
            "  File \"/usr/local/lib/python3.10/dist-packages/langsmith/evaluation/_runner.py\", line 1233, in _run_evaluators\n",
            "    evaluator_response = evaluator.evaluate_run(\n",
            "  File \"/usr/local/lib/python3.10/dist-packages/langsmith/evaluation/evaluator.py\", line 278, in evaluate_run\n",
            "    result = self.func(\n",
            "  File \"/usr/local/lib/python3.10/dist-packages/langsmith/run_helpers.py\", line 568, in wrapper\n",
            "    raise e\n",
            "  File \"/usr/local/lib/python3.10/dist-packages/langsmith/run_helpers.py\", line 565, in wrapper\n",
            "    function_result = run_container[\"context\"].run(func, *args, **kwargs)\n",
            "  File \"/usr/local/lib/python3.10/dist-packages/langsmith/evaluation/integrations/_langchain.py\", line 257, in evaluate\n",
            "    results = self.evaluator.evaluate_strings(**eval_inputs)\n",
            "  File \"/usr/local/lib/python3.10/dist-packages/langchain/evaluation/schema.py\", line 219, in evaluate_strings\n",
            "    return self._evaluate_strings(\n",
            "  File \"/usr/local/lib/python3.10/dist-packages/langchain/evaluation/scoring/eval_chain.py\", line 352, in _evaluate_strings\n",
            "    result = self(\n",
            "  File \"/usr/local/lib/python3.10/dist-packages/langchain_core/_api/deprecation.py\", line 168, in warning_emitting_wrapper\n",
            "    return wrapped(*args, **kwargs)\n",
            "  File \"/usr/local/lib/python3.10/dist-packages/langchain/chains/base.py\", line 383, in __call__\n",
            "    return self.invoke(\n",
            "  File \"/usr/local/lib/python3.10/dist-packages/langchain/chains/base.py\", line 166, in invoke\n",
            "    raise e\n",
            "  File \"/usr/local/lib/python3.10/dist-packages/langchain/chains/base.py\", line 156, in invoke\n",
            "    self._call(inputs, run_manager=run_manager)\n",
            "  File \"/usr/local/lib/python3.10/dist-packages/langchain/chains/llm.py\", line 128, in _call\n",
            "    return self.create_outputs(response)[0]\n",
            "  File \"/usr/local/lib/python3.10/dist-packages/langchain/chains/llm.py\", line 282, in create_outputs\n",
            "    result = [\n",
            "  File \"/usr/local/lib/python3.10/dist-packages/langchain/chains/llm.py\", line 285, in <listcomp>\n",
            "    self.output_key: self.output_parser.parse_result(generation),\n",
            "  File \"/usr/local/lib/python3.10/dist-packages/langchain_core/output_parsers/base.py\", line 221, in parse_result\n",
            "    return self.parse(result[0].text)\n",
            "  File \"/usr/local/lib/python3.10/dist-packages/langchain/evaluation/scoring/eval_chain.py\", line 134, in parse\n",
            "    raise ValueError(\n",
            "ValueError: Invalid output: The assistant's response does not provide a reference answer to compare with, making it impossible to evaluate the accuracy of the provided information. The assistant's response seems to be relevant to the question asked, but without a reference answer, it's impossible to confirm. Therefore, I cannot provide a rating.. Output must contain a double bracketed string                 with the verdict between 1 and 10.\n",
            "ERROR:langsmith.evaluation._runner:Error running evaluator <DynamicRunEvaluator evaluate> on run e2306b1d-be8a-450f-92c9-083cf0285a07: ValueError(\"Invalid output: The assistant's response does not match the ground truth provided. The ground truth seems to be a date, which is unrelated to the question asked. However, the assistant's response is relevant to the question, explaining a major drawback of the previous callbacks mechanism in LangChain. Therefore, it's impossible to accurately rate the assistant's response based on the provided ground truth. The assistant's response seems accurate and detailed in the context of the question, but without a relevant ground truth, a fair evaluation cannot be made. Rating: [[N/A]]. Output must contain a double bracketed string                 with the verdict between 1 and 10.\")\n",
            "Traceback (most recent call last):\n",
            "  File \"/usr/local/lib/python3.10/dist-packages/langsmith/evaluation/_runner.py\", line 1233, in _run_evaluators\n",
            "    evaluator_response = evaluator.evaluate_run(\n",
            "  File \"/usr/local/lib/python3.10/dist-packages/langsmith/evaluation/evaluator.py\", line 278, in evaluate_run\n",
            "    result = self.func(\n",
            "  File \"/usr/local/lib/python3.10/dist-packages/langsmith/run_helpers.py\", line 568, in wrapper\n",
            "    raise e\n",
            "  File \"/usr/local/lib/python3.10/dist-packages/langsmith/run_helpers.py\", line 565, in wrapper\n",
            "    function_result = run_container[\"context\"].run(func, *args, **kwargs)\n",
            "  File \"/usr/local/lib/python3.10/dist-packages/langsmith/evaluation/integrations/_langchain.py\", line 257, in evaluate\n",
            "    results = self.evaluator.evaluate_strings(**eval_inputs)\n",
            "  File \"/usr/local/lib/python3.10/dist-packages/langchain/evaluation/schema.py\", line 219, in evaluate_strings\n",
            "    return self._evaluate_strings(\n",
            "  File \"/usr/local/lib/python3.10/dist-packages/langchain/evaluation/scoring/eval_chain.py\", line 352, in _evaluate_strings\n",
            "    result = self(\n",
            "  File \"/usr/local/lib/python3.10/dist-packages/langchain_core/_api/deprecation.py\", line 168, in warning_emitting_wrapper\n",
            "    return wrapped(*args, **kwargs)\n",
            "  File \"/usr/local/lib/python3.10/dist-packages/langchain/chains/base.py\", line 383, in __call__\n",
            "    return self.invoke(\n",
            "  File \"/usr/local/lib/python3.10/dist-packages/langchain/chains/base.py\", line 166, in invoke\n",
            "    raise e\n",
            "  File \"/usr/local/lib/python3.10/dist-packages/langchain/chains/base.py\", line 156, in invoke\n",
            "    self._call(inputs, run_manager=run_manager)\n",
            "  File \"/usr/local/lib/python3.10/dist-packages/langchain/chains/llm.py\", line 128, in _call\n",
            "    return self.create_outputs(response)[0]\n",
            "  File \"/usr/local/lib/python3.10/dist-packages/langchain/chains/llm.py\", line 282, in create_outputs\n",
            "    result = [\n",
            "  File \"/usr/local/lib/python3.10/dist-packages/langchain/chains/llm.py\", line 285, in <listcomp>\n",
            "    self.output_key: self.output_parser.parse_result(generation),\n",
            "  File \"/usr/local/lib/python3.10/dist-packages/langchain_core/output_parsers/base.py\", line 221, in parse_result\n",
            "    return self.parse(result[0].text)\n",
            "  File \"/usr/local/lib/python3.10/dist-packages/langchain/evaluation/scoring/eval_chain.py\", line 134, in parse\n",
            "    raise ValueError(\n",
            "ValueError: Invalid output: The assistant's response does not match the ground truth provided. The ground truth seems to be a date, which is unrelated to the question asked. However, the assistant's response is relevant to the question, explaining a major drawback of the previous callbacks mechanism in LangChain. Therefore, it's impossible to accurately rate the assistant's response based on the provided ground truth. The assistant's response seems accurate and detailed in the context of the question, but without a relevant ground truth, a fair evaluation cannot be made. Rating: [[N/A]]. Output must contain a double bracketed string                 with the verdict between 1 and 10.\n"
          ]
        }
      ],
      "source": [
        "from langsmith.evaluation import LangChainStringEvaluator, evaluate\n",
        "\n",
        "cot_qa_evaluator = LangChainStringEvaluator(\"cot_qa\", prepare_data=prepare_data_ref)\n",
        "\n",
        "unlabeled_dopeness_evaluator = LangChainStringEvaluator(\n",
        "    \"criteria\",\n",
        "    config={\n",
        "        \"criteria\" : {\n",
        "            \"dopeness\" : \"Is the answer to the question dope, meaning cool - awesome - and legit?\"\n",
        "        }\n",
        "    },\n",
        "    prepare_data=prepare_data_noref\n",
        ")\n",
        "\n",
        "labeled_score_evaluator = LangChainStringEvaluator(\n",
        "    \"labeled_score_string\",\n",
        "    config={\n",
        "        \"criteria\": {\n",
        "            \"accuracy\": \"Is the generated answer the same as the reference answer?\"\n",
        "        },\n",
        "    },\n",
        "    prepare_data=prepare_data_ref\n",
        ")\n",
        "\n",
        "unlabeled_coherence_evaluator = LangChainStringEvaluator(\"criteria\", config={\"criteria\": \"coherence\"}, prepare_data=prepare_data_noref)\n",
        "labeled_relevance_evaluator = LangChainStringEvaluator(\"labeled_criteria\", config={ \"criteria\": \"relevance\"}, prepare_data=prepare_data_ref)\n",
        "\n",
        "base_rag_results = evaluate(\n",
        "    base_rag_chain.invoke,\n",
        "    data=dataset_name,\n",
        "    evaluators=[\n",
        "        cot_qa_evaluator,\n",
        "        unlabeled_dopeness_evaluator,\n",
        "        labeled_score_evaluator,\n",
        "        unlabeled_coherence_evaluator,\n",
        "        labeled_relevance_evaluator\n",
        "        ],\n",
        "    experiment_prefix=\"Base RAG Evaluation\"\n",
        ")"
      ]
    },
    {
      "cell_type": "markdown",
      "metadata": {
        "id": "SwhBxlxYAdno"
      },
      "source": [
        "## Testing Other Retrievers\n",
        "\n",
        "Now we can test our how changing our Retriever impacts our LangSmith evaluation!\n",
        "\n",
        "We'll build this simple qa_chain factory to create standardized qa_chains where the only different component will be the retriever."
      ]
    },
    {
      "cell_type": "code",
      "execution_count": null,
      "metadata": {
        "id": "qnfy4VNkzZi2"
      },
      "outputs": [],
      "source": [
        "def create_qa_chain(retriever):\n",
        "  primary_qa_llm = ChatOpenAI(model_name=\"gpt-3.5-turbo\", temperature=0)\n",
        "  created_qa_chain = (\n",
        "    {\"context\": itemgetter(\"question\") | retriever,\n",
        "     \"question\": itemgetter(\"question\")\n",
        "    }\n",
        "    | RunnablePassthrough.assign(\n",
        "        context=itemgetter(\"context\")\n",
        "      )\n",
        "    | {\n",
        "         \"response\": base_rag_prompt | primary_qa_llm,\n",
        "         \"context\": itemgetter(\"context\"),\n",
        "      }\n",
        "  )\n",
        "  return created_qa_chain"
      ]
    },
    {
      "cell_type": "markdown",
      "metadata": {
        "id": "vOPp4Xq7AvEx"
      },
      "source": [
        "### Task 1: Parent Document Retriever\n",
        "\n",
        "One of the easier ways we can imagine improving a retriever is to embed our documents into small chunks, and then retrieve a significant amount of additional context that \"surrounds\" the found context.\n",
        "\n",
        "You can read more about this method [here](https://python.langchain.com/docs/modules/data_connection/retrievers/parent_document_retriever)!\n",
        "\n",
        "The basic outline of this retrieval method is as follows:\n",
        "\n",
        "1. Obtain User Question\n",
        "2. Retrieve child documents using Dense Vector Retrieval\n",
        "3. Merge the child documents based on their parents. If they have the same parents - they become merged.\n",
        "4. Replace the child documents with their respective parent documents from an in-memory-store.\n",
        "5. Use the parent documents to augment generation."
      ]
    },
    {
      "cell_type": "code",
      "execution_count": null,
      "metadata": {
        "id": "67I6QJAJ0Un7"
      },
      "outputs": [],
      "source": [
        "from langchain.retrievers import ParentDocumentRetriever\n",
        "from langchain.storage import InMemoryStore\n",
        "from qdrant_client import QdrantClient\n",
        "from qdrant_client.models import Distance, VectorParams\n",
        "\n",
        "client = QdrantClient(\":memory:\")\n",
        "client.create_collection(\n",
        "    collection_name=\"split_parents\",\n",
        "    vectors_config=VectorParams(size=1536, distance=Distance.COSINE),\n",
        ")\n",
        "\n",
        "vectorstore = Qdrant(client, collection_name=\"split_parents\", embeddings=base_embeddings_model)\n",
        "\n",
        "store = InMemoryStore()"
      ]
    },
    {
      "cell_type": "code",
      "execution_count": null,
      "metadata": {
        "id": "zfk5RYUt00Pw"
      },
      "outputs": [],
      "source": [
        "parent_document_retriever = ParentDocumentRetriever(\n",
        "    vectorstore=vectorstore,\n",
        "    docstore=store,\n",
        "    child_splitter=RecursiveCharacterTextSplitter(chunk_size=400),\n",
        "    parent_splitter=RecursiveCharacterTextSplitter(chunk_size=2000),\n",
        ")"
      ]
    },
    {
      "cell_type": "code",
      "execution_count": null,
      "metadata": {
        "id": "68c1t4o104AK"
      },
      "outputs": [],
      "source": [
        "parent_document_retriever.add_documents(documents)"
      ]
    },
    {
      "cell_type": "markdown",
      "metadata": {
        "id": "MTH0MDolBndm"
      },
      "source": [
        "Let's create, test, and then evaluate our new chain!"
      ]
    },
    {
      "cell_type": "code",
      "execution_count": null,
      "metadata": {
        "id": "KMjLfqOC09Iw"
      },
      "outputs": [],
      "source": [
        "parent_document_retriever_qa_chain = create_qa_chain(parent_document_retriever)"
      ]
    },
    {
      "cell_type": "code",
      "execution_count": null,
      "metadata": {
        "id": "Rv8bAHPN1H4P"
      },
      "outputs": [],
      "source": [
        "parent_document_retriever_qa_chain.invoke({\"question\" : \"What is RAG?\"})[\"response\"].content"
      ]
    },
    {
      "cell_type": "markdown",
      "metadata": {
        "id": "R6H7vHCt2HJi"
      },
      "source": [
        "#### Evaluating the Parent Document Retrieval Pipeline\n",
        "\n",
        "Now that we've created a new retriever - let's try evaluating it on the same dataset!"
      ]
    },
    {
      "cell_type": "code",
      "execution_count": null,
      "metadata": {
        "id": "Z-0WFCtx2N4n"
      },
      "outputs": [],
      "source": [
        "pdr_rag_results = evaluate(\n",
        "    parent_document_retriever_qa_chain.invoke,\n",
        "    data=dataset_name,\n",
        "    evaluators=[\n",
        "        cot_qa_evaluator,\n",
        "        unlabeled_dopeness_evaluator,\n",
        "        labeled_score_evaluator,\n",
        "        unlabeled_coherence_evaluator,\n",
        "        labeled_relevance_evaluator\n",
        "        ],\n",
        "    experiment_prefix=\"Parent Document Retrieval RAG Evaluation\"\n",
        ")"
      ]
    },
    {
      "cell_type": "markdown",
      "metadata": {
        "id": "JaNk6o7_BqX8"
      },
      "source": [
        "### Task 2: Ensemble Retrieval\n",
        "\n",
        "Next let's look at ensemble retrieval!\n",
        "\n",
        "You can read more about this [here](https://python.langchain.com/docs/modules/data_connection/retrievers/ensemble)!\n",
        "\n",
        "The basic idea is as follows:\n",
        "\n",
        "1. Obtain User Question\n",
        "2. Hit the Retriever Pair\n",
        "    - Retrieve Documents with BM25 Sparse Vector Retrieval\n",
        "    - Retrieve Documents with Dense Vector Retrieval Method\n",
        "3. Collect and \"fuse\" the retrieved docs based on their weighting using the [Reciprocal Rank Fusion](https://plg.uwaterloo.ca/~gvcormac/cormacksigir09-rrf.pdf) algorithm into a single ranked list.\n",
        "4. Use those documents to augment our generation.\n",
        "\n",
        "Ensure your `weights` list - the relative weighting of each retriever - sums to 1!"
      ]
    },
    {
      "cell_type": "code",
      "execution_count": null,
      "metadata": {
        "id": "zz7dl1GD5-L-"
      },
      "outputs": [],
      "source": [
        "!pip install -q -U rank_bm25"
      ]
    },
    {
      "cell_type": "code",
      "execution_count": 39,
      "metadata": {
        "id": "Vs8wxT9b5pRA"
      },
      "outputs": [],
      "source": [
        "from langchain.retrievers import BM25Retriever, EnsembleRetriever\n",
        "\n",
        "text_splitter = RecursiveCharacterTextSplitter(chunk_size=450, chunk_overlap=75)\n",
        "split_documents = text_splitter.split_documents(documents)\n",
        "\n",
        "bm25_retriever = BM25Retriever.from_documents(split_documents)\n",
        "bm25_retriever.k = 2\n",
        "\n",
        "embedding = OpenAIEmbeddings()\n",
        "vectorstore = Qdrant.from_documents(split_documents, embedding, location=\":memory:\")\n",
        "qdrant_retriever = vectorstore.as_retriever(search_kwargs={\"k\": 3})\n",
        "\n",
        "ensemble_retriever = EnsembleRetriever(\n",
        "    retrievers=[\n",
        "        bm25_retriever,\n",
        "        qdrant_retriever\n",
        "    ],\n",
        "    weights=[\n",
        "        0.5,\n",
        "        0.5\n",
        "    ])"
      ]
    },
    {
      "cell_type": "code",
      "execution_count": null,
      "metadata": {
        "id": "cv69YDpF6PrJ"
      },
      "outputs": [],
      "source": [
        "ensemble_retriever_qa_chain = create_qa_chain(ensemble_retriever)"
      ]
    },
    {
      "cell_type": "code",
      "execution_count": null,
      "metadata": {
        "id": "6lSszzrf6UmP"
      },
      "outputs": [],
      "source": [
        "ensemble_retriever_qa_chain.invoke({\"question\" : \"What is RAG?\"})[\"response\"].content"
      ]
    },
    {
      "cell_type": "code",
      "execution_count": 42,
      "metadata": {
        "id": "GVBY5lhm4KG7",
        "colab": {
          "base_uri": "https://localhost:8080/",
          "height": 142,
          "referenced_widgets": [
            "43979b34fcc5494e930b33a8fc4a7f7d",
            "435de1d8abfb4b9da5e5d2eddf4cdf53",
            "4aef7e2a36e54049bc8fb9f4b4ab5517",
            "3f089c2e18cc46b28c13eb2cf22d6660",
            "7dc3a8c00bfd44428fad3abd9403bd98",
            "8b0027f8482941eda046c5e8e37acee6",
            "0e30d95c179a47d285bd71a5a0a49a04",
            "4e2046a2438c442fba03c82855355f02",
            "076c1345c5504bfdb8ec79021acd5ba1",
            "6722608908f44abcbee8317b8f6911d5",
            "7f01cb785f2d4f8f865031ed1d34b0a5"
          ]
        },
        "outputId": "a1e4db4c-6fcb-40ea-cf47-527f76aa8012"
      },
      "outputs": [
        {
          "metadata": {
            "tags": null
          },
          "name": "stdout",
          "output_type": "stream",
          "text": [
            "View the evaluation results for experiment: 'Hybrid Retrieval RAG Evaluation-52e987db' at:\n",
            "https://smith.langchain.com/o/f3125fd9-8ca4-505b-ae11-18dfc3fb5909/datasets/d1fd21aa-ef33-4110-91ba-be6aedbd4e9c/compare?selectedSessions=ebde22c1-67b4-4d87-bab4-2721d9376216\n",
            "\n",
            "\n"
          ]
        },
        {
          "data": {
            "application/vnd.jupyter.widget-view+json": {
              "model_id": "43979b34fcc5494e930b33a8fc4a7f7d",
              "version_major": 2,
              "version_minor": 0
            },
            "text/plain": [
              "0it [00:00, ?it/s]"
            ]
          },
          "metadata": {},
          "output_type": "display_data"
        }
      ],
      "source": [
        "pdr_rag_results = evaluate(\n",
        "    ensemble_retriever_qa_chain.invoke,\n",
        "    data=dataset_name,\n",
        "    evaluators=[\n",
        "        cot_qa_evaluator,\n",
        "        unlabeled_dopeness_evaluator,\n",
        "        labeled_score_evaluator,\n",
        "        unlabeled_coherence_evaluator,\n",
        "        labeled_relevance_evaluator\n",
        "        ],\n",
        "    experiment_prefix=\"Hybrid Retrieval RAG Evaluation\"\n",
        ")"
      ]
    },
    {
      "cell_type": "markdown",
      "metadata": {
        "id": "YPocfrNFiYWi"
      },
      "source": [
        "#### ❓Question #1:\n",
        "\n",
        "What conclusions can you draw about the above results?\n",
        "\n",
        "Describe in your own words what the metrics are expressing."
        "Me: The model needs fine-tuning.\n" 
        "While all the answers seem to be coherent - which means the ideas in the text flow logically one after another, only 59% are contextually accurate - meaning correct based on the context, only 43% of the answers are dope - cool or legit, only 35% are relevant - measuring relevance to the provided context and previous questions.\n"
      ]
    }
  ],
  "metadata": {
    "colab": {
      "provenance": []
    },
    "kernelspec": {
      "display_name": "Python 3",
      "name": "python3"
    },
    "language_info": {
      "name": "python"
    },
    "widgets": {
      "application/vnd.jupyter.widget-state+json": {
        "4c6ce1a923d04b18998af77e142ec905": {
          "model_module": "@jupyter-widgets/controls",
          "model_name": "HBoxModel",
          "model_module_version": "1.5.0",
          "state": {
            "_dom_classes": [],
            "_model_module": "@jupyter-widgets/controls",
            "_model_module_version": "1.5.0",
            "_model_name": "HBoxModel",
            "_view_count": null,
            "_view_module": "@jupyter-widgets/controls",
            "_view_module_version": "1.5.0",
            "_view_name": "HBoxView",
            "box_style": "",
            "children": [
              "IPY_MODEL_535ef659ffc24917b1f37a98b5d6cd94",
              "IPY_MODEL_cb39437555a144d482ac37e2b8ecd1b4",
              "IPY_MODEL_550f53eb2d4e48ecbff05f486d089d4e"
            ],
            "layout": "IPY_MODEL_104da26557ba471fa9e44c19d3a935f0"
          }
        },
        "535ef659ffc24917b1f37a98b5d6cd94": {
          "model_module": "@jupyter-widgets/controls",
          "model_name": "HTMLModel",
          "model_module_version": "1.5.0",
          "state": {
            "_dom_classes": [],
            "_model_module": "@jupyter-widgets/controls",
            "_model_module_version": "1.5.0",
            "_model_name": "HTMLModel",
            "_view_count": null,
            "_view_module": "@jupyter-widgets/controls",
            "_view_module_version": "1.5.0",
            "_view_name": "HTMLView",
            "description": "",
            "description_tooltip": null,
            "layout": "IPY_MODEL_4e599146e89a428dac03138725ba8ee3",
            "placeholder": "​",
            "style": "IPY_MODEL_fb78ac4fd4f842619af792e45e1659fe",
            "value": ""
          }
        },
        "cb39437555a144d482ac37e2b8ecd1b4": {
          "model_module": "@jupyter-widgets/controls",
          "model_name": "FloatProgressModel",
          "model_module_version": "1.5.0",
          "state": {
            "_dom_classes": [],
            "_model_module": "@jupyter-widgets/controls",
            "_model_module_version": "1.5.0",
            "_model_name": "FloatProgressModel",
            "_view_count": null,
            "_view_module": "@jupyter-widgets/controls",
            "_view_module_version": "1.5.0",
            "_view_name": "ProgressView",
            "bar_style": "success",
            "description": "",
            "description_tooltip": null,
            "layout": "IPY_MODEL_8a861781f4eb4a3598c72ac2bdf9b290",
            "max": 1,
            "min": 0,
            "orientation": "horizontal",
            "style": "IPY_MODEL_7f73e522bfee444ab1e69dc0a67a5dfe",
            "value": 1
          }
        },
        "550f53eb2d4e48ecbff05f486d089d4e": {
          "model_module": "@jupyter-widgets/controls",
          "model_name": "HTMLModel",
          "model_module_version": "1.5.0",
          "state": {
            "_dom_classes": [],
            "_model_module": "@jupyter-widgets/controls",
            "_model_module_version": "1.5.0",
            "_model_name": "HTMLModel",
            "_view_count": null,
            "_view_module": "@jupyter-widgets/controls",
            "_view_module_version": "1.5.0",
            "_view_name": "HTMLView",
            "description": "",
            "description_tooltip": null,
            "layout": "IPY_MODEL_4cc80bde9a9c4223a1dabfeee52b27e6",
            "placeholder": "​",
            "style": "IPY_MODEL_f92481031c9444ad9268a381774239ca",
            "value": " 23/? [02:59&lt;00:00,  7.31s/it]"
          }
        },
        "104da26557ba471fa9e44c19d3a935f0": {
          "model_module": "@jupyter-widgets/base",
          "model_name": "LayoutModel",
          "model_module_version": "1.2.0",
          "state": {
            "_model_module": "@jupyter-widgets/base",
            "_model_module_version": "1.2.0",
            "_model_name": "LayoutModel",
            "_view_count": null,
            "_view_module": "@jupyter-widgets/base",
            "_view_module_version": "1.2.0",
            "_view_name": "LayoutView",
            "align_content": null,
            "align_items": null,
            "align_self": null,
            "border": null,
            "bottom": null,
            "display": null,
            "flex": null,
            "flex_flow": null,
            "grid_area": null,
            "grid_auto_columns": null,
            "grid_auto_flow": null,
            "grid_auto_rows": null,
            "grid_column": null,
            "grid_gap": null,
            "grid_row": null,
            "grid_template_areas": null,
            "grid_template_columns": null,
            "grid_template_rows": null,
            "height": null,
            "justify_content": null,
            "justify_items": null,
            "left": null,
            "margin": null,
            "max_height": null,
            "max_width": null,
            "min_height": null,
            "min_width": null,
            "object_fit": null,
            "object_position": null,
            "order": null,
            "overflow": null,
            "overflow_x": null,
            "overflow_y": null,
            "padding": null,
            "right": null,
            "top": null,
            "visibility": null,
            "width": null
          }
        },
        "4e599146e89a428dac03138725ba8ee3": {
          "model_module": "@jupyter-widgets/base",
          "model_name": "LayoutModel",
          "model_module_version": "1.2.0",
          "state": {
            "_model_module": "@jupyter-widgets/base",
            "_model_module_version": "1.2.0",
            "_model_name": "LayoutModel",
            "_view_count": null,
            "_view_module": "@jupyter-widgets/base",
            "_view_module_version": "1.2.0",
            "_view_name": "LayoutView",
            "align_content": null,
            "align_items": null,
            "align_self": null,
            "border": null,
            "bottom": null,
            "display": null,
            "flex": null,
            "flex_flow": null,
            "grid_area": null,
            "grid_auto_columns": null,
            "grid_auto_flow": null,
            "grid_auto_rows": null,
            "grid_column": null,
            "grid_gap": null,
            "grid_row": null,
            "grid_template_areas": null,
            "grid_template_columns": null,
            "grid_template_rows": null,
            "height": null,
            "justify_content": null,
            "justify_items": null,
            "left": null,
            "margin": null,
            "max_height": null,
            "max_width": null,
            "min_height": null,
            "min_width": null,
            "object_fit": null,
            "object_position": null,
            "order": null,
            "overflow": null,
            "overflow_x": null,
            "overflow_y": null,
            "padding": null,
            "right": null,
            "top": null,
            "visibility": null,
            "width": null
          }
        },
        "fb78ac4fd4f842619af792e45e1659fe": {
          "model_module": "@jupyter-widgets/controls",
          "model_name": "DescriptionStyleModel",
          "model_module_version": "1.5.0",
          "state": {
            "_model_module": "@jupyter-widgets/controls",
            "_model_module_version": "1.5.0",
            "_model_name": "DescriptionStyleModel",
            "_view_count": null,
            "_view_module": "@jupyter-widgets/base",
            "_view_module_version": "1.2.0",
            "_view_name": "StyleView",
            "description_width": ""
          }
        },
        "8a861781f4eb4a3598c72ac2bdf9b290": {
          "model_module": "@jupyter-widgets/base",
          "model_name": "LayoutModel",
          "model_module_version": "1.2.0",
          "state": {
            "_model_module": "@jupyter-widgets/base",
            "_model_module_version": "1.2.0",
            "_model_name": "LayoutModel",
            "_view_count": null,
            "_view_module": "@jupyter-widgets/base",
            "_view_module_version": "1.2.0",
            "_view_name": "LayoutView",
            "align_content": null,
            "align_items": null,
            "align_self": null,
            "border": null,
            "bottom": null,
            "display": null,
            "flex": null,
            "flex_flow": null,
            "grid_area": null,
            "grid_auto_columns": null,
            "grid_auto_flow": null,
            "grid_auto_rows": null,
            "grid_column": null,
            "grid_gap": null,
            "grid_row": null,
            "grid_template_areas": null,
            "grid_template_columns": null,
            "grid_template_rows": null,
            "height": null,
            "justify_content": null,
            "justify_items": null,
            "left": null,
            "margin": null,
            "max_height": null,
            "max_width": null,
            "min_height": null,
            "min_width": null,
            "object_fit": null,
            "object_position": null,
            "order": null,
            "overflow": null,
            "overflow_x": null,
            "overflow_y": null,
            "padding": null,
            "right": null,
            "top": null,
            "visibility": null,
            "width": "20px"
          }
        },
        "7f73e522bfee444ab1e69dc0a67a5dfe": {
          "model_module": "@jupyter-widgets/controls",
          "model_name": "ProgressStyleModel",
          "model_module_version": "1.5.0",
          "state": {
            "_model_module": "@jupyter-widgets/controls",
            "_model_module_version": "1.5.0",
            "_model_name": "ProgressStyleModel",
            "_view_count": null,
            "_view_module": "@jupyter-widgets/base",
            "_view_module_version": "1.2.0",
            "_view_name": "StyleView",
            "bar_color": null,
            "description_width": ""
          }
        },
        "4cc80bde9a9c4223a1dabfeee52b27e6": {
          "model_module": "@jupyter-widgets/base",
          "model_name": "LayoutModel",
          "model_module_version": "1.2.0",
          "state": {
            "_model_module": "@jupyter-widgets/base",
            "_model_module_version": "1.2.0",
            "_model_name": "LayoutModel",
            "_view_count": null,
            "_view_module": "@jupyter-widgets/base",
            "_view_module_version": "1.2.0",
            "_view_name": "LayoutView",
            "align_content": null,
            "align_items": null,
            "align_self": null,
            "border": null,
            "bottom": null,
            "display": null,
            "flex": null,
            "flex_flow": null,
            "grid_area": null,
            "grid_auto_columns": null,
            "grid_auto_flow": null,
            "grid_auto_rows": null,
            "grid_column": null,
            "grid_gap": null,
            "grid_row": null,
            "grid_template_areas": null,
            "grid_template_columns": null,
            "grid_template_rows": null,
            "height": null,
            "justify_content": null,
            "justify_items": null,
            "left": null,
            "margin": null,
            "max_height": null,
            "max_width": null,
            "min_height": null,
            "min_width": null,
            "object_fit": null,
            "object_position": null,
            "order": null,
            "overflow": null,
            "overflow_x": null,
            "overflow_y": null,
            "padding": null,
            "right": null,
            "top": null,
            "visibility": null,
            "width": null
          }
        },
        "f92481031c9444ad9268a381774239ca": {
          "model_module": "@jupyter-widgets/controls",
          "model_name": "DescriptionStyleModel",
          "model_module_version": "1.5.0",
          "state": {
            "_model_module": "@jupyter-widgets/controls",
            "_model_module_version": "1.5.0",
            "_model_name": "DescriptionStyleModel",
            "_view_count": null,
            "_view_module": "@jupyter-widgets/base",
            "_view_module_version": "1.2.0",
            "_view_name": "StyleView",
            "description_width": ""
          }
        },
        "43979b34fcc5494e930b33a8fc4a7f7d": {
          "model_module": "@jupyter-widgets/controls",
          "model_name": "HBoxModel",
          "model_module_version": "1.5.0",
          "state": {
            "_dom_classes": [],
            "_model_module": "@jupyter-widgets/controls",
            "_model_module_version": "1.5.0",
            "_model_name": "HBoxModel",
            "_view_count": null,
            "_view_module": "@jupyter-widgets/controls",
            "_view_module_version": "1.5.0",
            "_view_name": "HBoxView",
            "box_style": "",
            "children": [
              "IPY_MODEL_435de1d8abfb4b9da5e5d2eddf4cdf53",
              "IPY_MODEL_4aef7e2a36e54049bc8fb9f4b4ab5517",
              "IPY_MODEL_3f089c2e18cc46b28c13eb2cf22d6660"
            ],
            "layout": "IPY_MODEL_7dc3a8c00bfd44428fad3abd9403bd98"
          }
        },
        "435de1d8abfb4b9da5e5d2eddf4cdf53": {
          "model_module": "@jupyter-widgets/controls",
          "model_name": "HTMLModel",
          "model_module_version": "1.5.0",
          "state": {
            "_dom_classes": [],
            "_model_module": "@jupyter-widgets/controls",
            "_model_module_version": "1.5.0",
            "_model_name": "HTMLModel",
            "_view_count": null,
            "_view_module": "@jupyter-widgets/controls",
            "_view_module_version": "1.5.0",
            "_view_name": "HTMLView",
            "description": "",
            "description_tooltip": null,
            "layout": "IPY_MODEL_8b0027f8482941eda046c5e8e37acee6",
            "placeholder": "​",
            "style": "IPY_MODEL_0e30d95c179a47d285bd71a5a0a49a04",
            "value": ""
          }
        },
        "4aef7e2a36e54049bc8fb9f4b4ab5517": {
          "model_module": "@jupyter-widgets/controls",
          "model_name": "FloatProgressModel",
          "model_module_version": "1.5.0",
          "state": {
            "_dom_classes": [],
            "_model_module": "@jupyter-widgets/controls",
            "_model_module_version": "1.5.0",
            "_model_name": "FloatProgressModel",
            "_view_count": null,
            "_view_module": "@jupyter-widgets/controls",
            "_view_module_version": "1.5.0",
            "_view_name": "ProgressView",
            "bar_style": "success",
            "description": "",
            "description_tooltip": null,
            "layout": "IPY_MODEL_4e2046a2438c442fba03c82855355f02",
            "max": 1,
            "min": 0,
            "orientation": "horizontal",
            "style": "IPY_MODEL_076c1345c5504bfdb8ec79021acd5ba1",
            "value": 0
          }
        },
        "3f089c2e18cc46b28c13eb2cf22d6660": {
          "model_module": "@jupyter-widgets/controls",
          "model_name": "HTMLModel",
          "model_module_version": "1.5.0",
          "state": {
            "_dom_classes": [],
            "_model_module": "@jupyter-widgets/controls",
            "_model_module_version": "1.5.0",
            "_model_name": "HTMLModel",
            "_view_count": null,
            "_view_module": "@jupyter-widgets/controls",
            "_view_module_version": "1.5.0",
            "_view_name": "HTMLView",
            "description": "",
            "description_tooltip": null,
            "layout": "IPY_MODEL_6722608908f44abcbee8317b8f6911d5",
            "placeholder": "​",
            "style": "IPY_MODEL_7f01cb785f2d4f8f865031ed1d34b0a5",
            "value": " 23/? [03:05&lt;00:00,  5.49s/it]"
          }
        },
        "7dc3a8c00bfd44428fad3abd9403bd98": {
          "model_module": "@jupyter-widgets/base",
          "model_name": "LayoutModel",
          "model_module_version": "1.2.0",
          "state": {
            "_model_module": "@jupyter-widgets/base",
            "_model_module_version": "1.2.0",
            "_model_name": "LayoutModel",
            "_view_count": null,
            "_view_module": "@jupyter-widgets/base",
            "_view_module_version": "1.2.0",
            "_view_name": "LayoutView",
            "align_content": null,
            "align_items": null,
            "align_self": null,
            "border": null,
            "bottom": null,
            "display": null,
            "flex": null,
            "flex_flow": null,
            "grid_area": null,
            "grid_auto_columns": null,
            "grid_auto_flow": null,
            "grid_auto_rows": null,
            "grid_column": null,
            "grid_gap": null,
            "grid_row": null,
            "grid_template_areas": null,
            "grid_template_columns": null,
            "grid_template_rows": null,
            "height": null,
            "justify_content": null,
            "justify_items": null,
            "left": null,
            "margin": null,
            "max_height": null,
            "max_width": null,
            "min_height": null,
            "min_width": null,
            "object_fit": null,
            "object_position": null,
            "order": null,
            "overflow": null,
            "overflow_x": null,
            "overflow_y": null,
            "padding": null,
            "right": null,
            "top": null,
            "visibility": null,
            "width": null
          }
        },
        "8b0027f8482941eda046c5e8e37acee6": {
          "model_module": "@jupyter-widgets/base",
          "model_name": "LayoutModel",
          "model_module_version": "1.2.0",
          "state": {
            "_model_module": "@jupyter-widgets/base",
            "_model_module_version": "1.2.0",
            "_model_name": "LayoutModel",
            "_view_count": null,
            "_view_module": "@jupyter-widgets/base",
            "_view_module_version": "1.2.0",
            "_view_name": "LayoutView",
            "align_content": null,
            "align_items": null,
            "align_self": null,
            "border": null,
            "bottom": null,
            "display": null,
            "flex": null,
            "flex_flow": null,
            "grid_area": null,
            "grid_auto_columns": null,
            "grid_auto_flow": null,
            "grid_auto_rows": null,
            "grid_column": null,
            "grid_gap": null,
            "grid_row": null,
            "grid_template_areas": null,
            "grid_template_columns": null,
            "grid_template_rows": null,
            "height": null,
            "justify_content": null,
            "justify_items": null,
            "left": null,
            "margin": null,
            "max_height": null,
            "max_width": null,
            "min_height": null,
            "min_width": null,
            "object_fit": null,
            "object_position": null,
            "order": null,
            "overflow": null,
            "overflow_x": null,
            "overflow_y": null,
            "padding": null,
            "right": null,
            "top": null,
            "visibility": null,
            "width": null
          }
        },
        "0e30d95c179a47d285bd71a5a0a49a04": {
          "model_module": "@jupyter-widgets/controls",
          "model_name": "DescriptionStyleModel",
          "model_module_version": "1.5.0",
          "state": {
            "_model_module": "@jupyter-widgets/controls",
            "_model_module_version": "1.5.0",
            "_model_name": "DescriptionStyleModel",
            "_view_count": null,
            "_view_module": "@jupyter-widgets/base",
            "_view_module_version": "1.2.0",
            "_view_name": "StyleView",
            "description_width": ""
          }
        },
        "4e2046a2438c442fba03c82855355f02": {
          "model_module": "@jupyter-widgets/base",
          "model_name": "LayoutModel",
          "model_module_version": "1.2.0",
          "state": {
            "_model_module": "@jupyter-widgets/base",
            "_model_module_version": "1.2.0",
            "_model_name": "LayoutModel",
            "_view_count": null,
            "_view_module": "@jupyter-widgets/base",
            "_view_module_version": "1.2.0",
            "_view_name": "LayoutView",
            "align_content": null,
            "align_items": null,
            "align_self": null,
            "border": null,
            "bottom": null,
            "display": null,
            "flex": null,
            "flex_flow": null,
            "grid_area": null,
            "grid_auto_columns": null,
            "grid_auto_flow": null,
            "grid_auto_rows": null,
            "grid_column": null,
            "grid_gap": null,
            "grid_row": null,
            "grid_template_areas": null,
            "grid_template_columns": null,
            "grid_template_rows": null,
            "height": null,
            "justify_content": null,
            "justify_items": null,
            "left": null,
            "margin": null,
            "max_height": null,
            "max_width": null,
            "min_height": null,
            "min_width": null,
            "object_fit": null,
            "object_position": null,
            "order": null,
            "overflow": null,
            "overflow_x": null,
            "overflow_y": null,
            "padding": null,
            "right": null,
            "top": null,
            "visibility": null,
            "width": "20px"
          }
        },
        "076c1345c5504bfdb8ec79021acd5ba1": {
          "model_module": "@jupyter-widgets/controls",
          "model_name": "ProgressStyleModel",
          "model_module_version": "1.5.0",
          "state": {
            "_model_module": "@jupyter-widgets/controls",
            "_model_module_version": "1.5.0",
            "_model_name": "ProgressStyleModel",
            "_view_count": null,
            "_view_module": "@jupyter-widgets/base",
            "_view_module_version": "1.2.0",
            "_view_name": "StyleView",
            "bar_color": null,
            "description_width": ""
          }
        },
        "6722608908f44abcbee8317b8f6911d5": {
          "model_module": "@jupyter-widgets/base",
          "model_name": "LayoutModel",
          "model_module_version": "1.2.0",
          "state": {
            "_model_module": "@jupyter-widgets/base",
            "_model_module_version": "1.2.0",
            "_model_name": "LayoutModel",
            "_view_count": null,
            "_view_module": "@jupyter-widgets/base",
            "_view_module_version": "1.2.0",
            "_view_name": "LayoutView",
            "align_content": null,
            "align_items": null,
            "align_self": null,
            "border": null,
            "bottom": null,
            "display": null,
            "flex": null,
            "flex_flow": null,
            "grid_area": null,
            "grid_auto_columns": null,
            "grid_auto_flow": null,
            "grid_auto_rows": null,
            "grid_column": null,
            "grid_gap": null,
            "grid_row": null,
            "grid_template_areas": null,
            "grid_template_columns": null,
            "grid_template_rows": null,
            "height": null,
            "justify_content": null,
            "justify_items": null,
            "left": null,
            "margin": null,
            "max_height": null,
            "max_width": null,
            "min_height": null,
            "min_width": null,
            "object_fit": null,
            "object_position": null,
            "order": null,
            "overflow": null,
            "overflow_x": null,
            "overflow_y": null,
            "padding": null,
            "right": null,
            "top": null,
            "visibility": null,
            "width": null
          }
        },
        "7f01cb785f2d4f8f865031ed1d34b0a5": {
          "model_module": "@jupyter-widgets/controls",
          "model_name": "DescriptionStyleModel",
          "model_module_version": "1.5.0",
          "state": {
            "_model_module": "@jupyter-widgets/controls",
            "_model_module_version": "1.5.0",
            "_model_name": "DescriptionStyleModel",
            "_view_count": null,
            "_view_module": "@jupyter-widgets/base",
            "_view_module_version": "1.2.0",
            "_view_name": "StyleView",
            "description_width": ""
          }
        }
      }
    }
  },
  "nbformat": 4,
  "nbformat_minor": 0
}
